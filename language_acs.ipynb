{
 "cells": [
  {
   "cell_type": "code",
   "execution_count": 1,
   "metadata": {
    "collapsed": true
   },
   "outputs": [],
   "source": [
    "import requests"
   ]
  },
  {
   "cell_type": "code",
   "execution_count": 2,
   "metadata": {
    "collapsed": false
   },
   "outputs": [],
   "source": [
    "from api_var import api_var"
   ]
  },
  {
   "cell_type": "code",
   "execution_count": 3,
   "metadata": {
    "collapsed": true
   },
   "outputs": [],
   "source": [
    "import csv"
   ]
  },
  {
   "cell_type": "code",
   "execution_count": 4,
   "metadata": {
    "collapsed": true
   },
   "outputs": [],
   "source": [
    "api_key = '6122df17856235fccc7ce6a0b92b9dc8b13bddcd'"
   ]
  },
  {
   "cell_type": "code",
   "execution_count": 5,
   "metadata": {
    "collapsed": false
   },
   "outputs": [],
   "source": [
    "url = 'http://api.census.gov/data/2013/acs5?get=%s&for=public+use+microdata+area:%s&in=state:36&key=' + api_key"
   ]
  },
  {
   "cell_type": "code",
   "execution_count": 34,
   "metadata": {
    "collapsed": true
   },
   "outputs": [],
   "source": [
    "inputFile = open('brooklyn_pums_2010.csv','rU')\n",
    "header = next(inputFile)"
   ]
  },
  {
   "cell_type": "code",
   "execution_count": 35,
   "metadata": {
    "collapsed": true
   },
   "outputs": [],
   "source": [
    "inputReader = csv.reader(inputFile)\n",
    "outputFile = open('brooklyn_pums_2010_language.csv','w')\n",
    "outputFile.write('geoid10,language\\n')"
   ]
  },
  {
   "cell_type": "code",
   "execution_count": 36,
   "metadata": {
    "collapsed": false
   },
   "outputs": [],
   "source": [
    "for line in inputReader:\n",
    "    r = requests.get(url % (','.join(sorted(api_var.keys())),line[1]))\n",
    "    max_number = max(map(lambda x: int(x),r.json()[1][:-2]))\n",
    "    max_index = r.json()[1].index(str(max_number))\n",
    "    language = api_var[r.json()[0][max_index]]\n",
    "    outputFile.write(line[2] + ',' + language + '\\n')\n",
    "outputFile.close()\n",
    "inputFile.close()"
   ]
  },
  {
   "cell_type": "code",
   "execution_count": null,
   "metadata": {
    "collapsed": true
   },
   "outputs": [],
   "source": []
  },
  {
   "cell_type": "code",
   "execution_count": null,
   "metadata": {
    "collapsed": true
   },
   "outputs": [],
   "source": []
  },
  {
   "cell_type": "code",
   "execution_count": null,
   "metadata": {
    "collapsed": true
   },
   "outputs": [],
   "source": []
  },
  {
   "cell_type": "code",
   "execution_count": null,
   "metadata": {
    "collapsed": true
   },
   "outputs": [],
   "source": []
  },
  {
   "cell_type": "code",
   "execution_count": 4,
   "metadata": {
    "collapsed": false
   },
   "outputs": [
    {
     "name": "stdout",
     "output_type": "stream",
     "text": [
      "http://api.census.gov/data/2013/acs5?get=%s&for=public+use+microdata+area:%s&key=6122df17856235fccc7ce6a0b92b9dc8b13bddcd\n"
     ]
    }
   ],
   "source": [
    "print url"
   ]
  },
  {
   "cell_type": "code",
   "execution_count": 38,
   "metadata": {
    "collapsed": false
   },
   "outputs": [
    {
     "name": "stdout",
     "output_type": "stream",
     "text": [
      "04018\n",
      "04010\n",
      "04016\n",
      "04017\n",
      "04007\n",
      "04009\n",
      "04015\n",
      "04011\n",
      "04012\n",
      "04005\n",
      "04013\n",
      "04004\n",
      "04001\n",
      "04003\n",
      "04002\n",
      "04006\n",
      "04008\n",
      "04014\n"
     ]
    }
   ],
   "source": [
    "for line in inputReader:\n",
    "    print line[1]"
   ]
  },
  {
   "cell_type": "code",
   "execution_count": 21,
   "metadata": {
    "collapsed": false,
    "scrolled": true
   },
   "outputs": [
    {
     "name": "stdout",
     "output_type": "stream",
     "text": [
      "http://api.census.gov/data/2013/acs5?get=B16001_001E,B16001_003E,B16001_006E,B16001_009E,B16001_012E,B16001_015E,B16001_018E,B16001_021E,B16001_024E,B16001_027E,B16001_030E,B16001_033E,B16001_036E,B16001_039E,B16001_042E,B16001_045E,B16001_048E,B16001_051E,B16001_054E,B16001_057E,B16001_060E,B16001_063E,B16001_066E,B16001_069E,B16001_072E,B16001_075E,B16001_078E,B16001_081E,B16001_084E,B16001_087E,B16001_090E,B16001_093E,B16001_096E,B16001_099E,B16001_102E,B16001_105E,B16001_108E,B16001_111E,B16001_114E,B16001_117E&for=public+use+microdata+area:04018&in=state:36&key=6122df17856235fccc7ce6a0b92b9dc8b13bddcd\n",
      "http://api.census.gov/data/2013/acs5?get=B16001_001E,B16001_003E,B16001_006E,B16001_009E,B16001_012E,B16001_015E,B16001_018E,B16001_021E,B16001_024E,B16001_027E,B16001_030E,B16001_033E,B16001_036E,B16001_039E,B16001_042E,B16001_045E,B16001_048E,B16001_051E,B16001_054E,B16001_057E,B16001_060E,B16001_063E,B16001_066E,B16001_069E,B16001_072E,B16001_075E,B16001_078E,B16001_081E,B16001_084E,B16001_087E,B16001_090E,B16001_093E,B16001_096E,B16001_099E,B16001_102E,B16001_105E,B16001_108E,B16001_111E,B16001_114E,B16001_117E&for=public+use+microdata+area:04010&in=state:36&key=6122df17856235fccc7ce6a0b92b9dc8b13bddcd\n",
      "http://api.census.gov/data/2013/acs5?get=B16001_001E,B16001_003E,B16001_006E,B16001_009E,B16001_012E,B16001_015E,B16001_018E,B16001_021E,B16001_024E,B16001_027E,B16001_030E,B16001_033E,B16001_036E,B16001_039E,B16001_042E,B16001_045E,B16001_048E,B16001_051E,B16001_054E,B16001_057E,B16001_060E,B16001_063E,B16001_066E,B16001_069E,B16001_072E,B16001_075E,B16001_078E,B16001_081E,B16001_084E,B16001_087E,B16001_090E,B16001_093E,B16001_096E,B16001_099E,B16001_102E,B16001_105E,B16001_108E,B16001_111E,B16001_114E,B16001_117E&for=public+use+microdata+area:04016&in=state:36&key=6122df17856235fccc7ce6a0b92b9dc8b13bddcd\n",
      "http://api.census.gov/data/2013/acs5?get=B16001_001E,B16001_003E,B16001_006E,B16001_009E,B16001_012E,B16001_015E,B16001_018E,B16001_021E,B16001_024E,B16001_027E,B16001_030E,B16001_033E,B16001_036E,B16001_039E,B16001_042E,B16001_045E,B16001_048E,B16001_051E,B16001_054E,B16001_057E,B16001_060E,B16001_063E,B16001_066E,B16001_069E,B16001_072E,B16001_075E,B16001_078E,B16001_081E,B16001_084E,B16001_087E,B16001_090E,B16001_093E,B16001_096E,B16001_099E,B16001_102E,B16001_105E,B16001_108E,B16001_111E,B16001_114E,B16001_117E&for=public+use+microdata+area:04017&in=state:36&key=6122df17856235fccc7ce6a0b92b9dc8b13bddcd\n",
      "http://api.census.gov/data/2013/acs5?get=B16001_001E,B16001_003E,B16001_006E,B16001_009E,B16001_012E,B16001_015E,B16001_018E,B16001_021E,B16001_024E,B16001_027E,B16001_030E,B16001_033E,B16001_036E,B16001_039E,B16001_042E,B16001_045E,B16001_048E,B16001_051E,B16001_054E,B16001_057E,B16001_060E,B16001_063E,B16001_066E,B16001_069E,B16001_072E,B16001_075E,B16001_078E,B16001_081E,B16001_084E,B16001_087E,B16001_090E,B16001_093E,B16001_096E,B16001_099E,B16001_102E,B16001_105E,B16001_108E,B16001_111E,B16001_114E,B16001_117E&for=public+use+microdata+area:04007&in=state:36&key=6122df17856235fccc7ce6a0b92b9dc8b13bddcd\n",
      "http://api.census.gov/data/2013/acs5?get=B16001_001E,B16001_003E,B16001_006E,B16001_009E,B16001_012E,B16001_015E,B16001_018E,B16001_021E,B16001_024E,B16001_027E,B16001_030E,B16001_033E,B16001_036E,B16001_039E,B16001_042E,B16001_045E,B16001_048E,B16001_051E,B16001_054E,B16001_057E,B16001_060E,B16001_063E,B16001_066E,B16001_069E,B16001_072E,B16001_075E,B16001_078E,B16001_081E,B16001_084E,B16001_087E,B16001_090E,B16001_093E,B16001_096E,B16001_099E,B16001_102E,B16001_105E,B16001_108E,B16001_111E,B16001_114E,B16001_117E&for=public+use+microdata+area:04009&in=state:36&key=6122df17856235fccc7ce6a0b92b9dc8b13bddcd\n",
      "http://api.census.gov/data/2013/acs5?get=B16001_001E,B16001_003E,B16001_006E,B16001_009E,B16001_012E,B16001_015E,B16001_018E,B16001_021E,B16001_024E,B16001_027E,B16001_030E,B16001_033E,B16001_036E,B16001_039E,B16001_042E,B16001_045E,B16001_048E,B16001_051E,B16001_054E,B16001_057E,B16001_060E,B16001_063E,B16001_066E,B16001_069E,B16001_072E,B16001_075E,B16001_078E,B16001_081E,B16001_084E,B16001_087E,B16001_090E,B16001_093E,B16001_096E,B16001_099E,B16001_102E,B16001_105E,B16001_108E,B16001_111E,B16001_114E,B16001_117E&for=public+use+microdata+area:04015&in=state:36&key=6122df17856235fccc7ce6a0b92b9dc8b13bddcd\n",
      "http://api.census.gov/data/2013/acs5?get=B16001_001E,B16001_003E,B16001_006E,B16001_009E,B16001_012E,B16001_015E,B16001_018E,B16001_021E,B16001_024E,B16001_027E,B16001_030E,B16001_033E,B16001_036E,B16001_039E,B16001_042E,B16001_045E,B16001_048E,B16001_051E,B16001_054E,B16001_057E,B16001_060E,B16001_063E,B16001_066E,B16001_069E,B16001_072E,B16001_075E,B16001_078E,B16001_081E,B16001_084E,B16001_087E,B16001_090E,B16001_093E,B16001_096E,B16001_099E,B16001_102E,B16001_105E,B16001_108E,B16001_111E,B16001_114E,B16001_117E&for=public+use+microdata+area:04011&in=state:36&key=6122df17856235fccc7ce6a0b92b9dc8b13bddcd\n",
      "http://api.census.gov/data/2013/acs5?get=B16001_001E,B16001_003E,B16001_006E,B16001_009E,B16001_012E,B16001_015E,B16001_018E,B16001_021E,B16001_024E,B16001_027E,B16001_030E,B16001_033E,B16001_036E,B16001_039E,B16001_042E,B16001_045E,B16001_048E,B16001_051E,B16001_054E,B16001_057E,B16001_060E,B16001_063E,B16001_066E,B16001_069E,B16001_072E,B16001_075E,B16001_078E,B16001_081E,B16001_084E,B16001_087E,B16001_090E,B16001_093E,B16001_096E,B16001_099E,B16001_102E,B16001_105E,B16001_108E,B16001_111E,B16001_114E,B16001_117E&for=public+use+microdata+area:04012&in=state:36&key=6122df17856235fccc7ce6a0b92b9dc8b13bddcd\n",
      "http://api.census.gov/data/2013/acs5?get=B16001_001E,B16001_003E,B16001_006E,B16001_009E,B16001_012E,B16001_015E,B16001_018E,B16001_021E,B16001_024E,B16001_027E,B16001_030E,B16001_033E,B16001_036E,B16001_039E,B16001_042E,B16001_045E,B16001_048E,B16001_051E,B16001_054E,B16001_057E,B16001_060E,B16001_063E,B16001_066E,B16001_069E,B16001_072E,B16001_075E,B16001_078E,B16001_081E,B16001_084E,B16001_087E,B16001_090E,B16001_093E,B16001_096E,B16001_099E,B16001_102E,B16001_105E,B16001_108E,B16001_111E,B16001_114E,B16001_117E&for=public+use+microdata+area:04005&in=state:36&key=6122df17856235fccc7ce6a0b92b9dc8b13bddcd\n",
      "http://api.census.gov/data/2013/acs5?get=B16001_001E,B16001_003E,B16001_006E,B16001_009E,B16001_012E,B16001_015E,B16001_018E,B16001_021E,B16001_024E,B16001_027E,B16001_030E,B16001_033E,B16001_036E,B16001_039E,B16001_042E,B16001_045E,B16001_048E,B16001_051E,B16001_054E,B16001_057E,B16001_060E,B16001_063E,B16001_066E,B16001_069E,B16001_072E,B16001_075E,B16001_078E,B16001_081E,B16001_084E,B16001_087E,B16001_090E,B16001_093E,B16001_096E,B16001_099E,B16001_102E,B16001_105E,B16001_108E,B16001_111E,B16001_114E,B16001_117E&for=public+use+microdata+area:04013&in=state:36&key=6122df17856235fccc7ce6a0b92b9dc8b13bddcd\n",
      "http://api.census.gov/data/2013/acs5?get=B16001_001E,B16001_003E,B16001_006E,B16001_009E,B16001_012E,B16001_015E,B16001_018E,B16001_021E,B16001_024E,B16001_027E,B16001_030E,B16001_033E,B16001_036E,B16001_039E,B16001_042E,B16001_045E,B16001_048E,B16001_051E,B16001_054E,B16001_057E,B16001_060E,B16001_063E,B16001_066E,B16001_069E,B16001_072E,B16001_075E,B16001_078E,B16001_081E,B16001_084E,B16001_087E,B16001_090E,B16001_093E,B16001_096E,B16001_099E,B16001_102E,B16001_105E,B16001_108E,B16001_111E,B16001_114E,B16001_117E&for=public+use+microdata+area:04004&in=state:36&key=6122df17856235fccc7ce6a0b92b9dc8b13bddcd\n",
      "http://api.census.gov/data/2013/acs5?get=B16001_001E,B16001_003E,B16001_006E,B16001_009E,B16001_012E,B16001_015E,B16001_018E,B16001_021E,B16001_024E,B16001_027E,B16001_030E,B16001_033E,B16001_036E,B16001_039E,B16001_042E,B16001_045E,B16001_048E,B16001_051E,B16001_054E,B16001_057E,B16001_060E,B16001_063E,B16001_066E,B16001_069E,B16001_072E,B16001_075E,B16001_078E,B16001_081E,B16001_084E,B16001_087E,B16001_090E,B16001_093E,B16001_096E,B16001_099E,B16001_102E,B16001_105E,B16001_108E,B16001_111E,B16001_114E,B16001_117E&for=public+use+microdata+area:04001&in=state:36&key=6122df17856235fccc7ce6a0b92b9dc8b13bddcd\n",
      "http://api.census.gov/data/2013/acs5?get=B16001_001E,B16001_003E,B16001_006E,B16001_009E,B16001_012E,B16001_015E,B16001_018E,B16001_021E,B16001_024E,B16001_027E,B16001_030E,B16001_033E,B16001_036E,B16001_039E,B16001_042E,B16001_045E,B16001_048E,B16001_051E,B16001_054E,B16001_057E,B16001_060E,B16001_063E,B16001_066E,B16001_069E,B16001_072E,B16001_075E,B16001_078E,B16001_081E,B16001_084E,B16001_087E,B16001_090E,B16001_093E,B16001_096E,B16001_099E,B16001_102E,B16001_105E,B16001_108E,B16001_111E,B16001_114E,B16001_117E&for=public+use+microdata+area:04003&in=state:36&key=6122df17856235fccc7ce6a0b92b9dc8b13bddcd\n",
      "http://api.census.gov/data/2013/acs5?get=B16001_001E,B16001_003E,B16001_006E,B16001_009E,B16001_012E,B16001_015E,B16001_018E,B16001_021E,B16001_024E,B16001_027E,B16001_030E,B16001_033E,B16001_036E,B16001_039E,B16001_042E,B16001_045E,B16001_048E,B16001_051E,B16001_054E,B16001_057E,B16001_060E,B16001_063E,B16001_066E,B16001_069E,B16001_072E,B16001_075E,B16001_078E,B16001_081E,B16001_084E,B16001_087E,B16001_090E,B16001_093E,B16001_096E,B16001_099E,B16001_102E,B16001_105E,B16001_108E,B16001_111E,B16001_114E,B16001_117E&for=public+use+microdata+area:04002&in=state:36&key=6122df17856235fccc7ce6a0b92b9dc8b13bddcd\n",
      "http://api.census.gov/data/2013/acs5?get=B16001_001E,B16001_003E,B16001_006E,B16001_009E,B16001_012E,B16001_015E,B16001_018E,B16001_021E,B16001_024E,B16001_027E,B16001_030E,B16001_033E,B16001_036E,B16001_039E,B16001_042E,B16001_045E,B16001_048E,B16001_051E,B16001_054E,B16001_057E,B16001_060E,B16001_063E,B16001_066E,B16001_069E,B16001_072E,B16001_075E,B16001_078E,B16001_081E,B16001_084E,B16001_087E,B16001_090E,B16001_093E,B16001_096E,B16001_099E,B16001_102E,B16001_105E,B16001_108E,B16001_111E,B16001_114E,B16001_117E&for=public+use+microdata+area:04006&in=state:36&key=6122df17856235fccc7ce6a0b92b9dc8b13bddcd\n",
      "http://api.census.gov/data/2013/acs5?get=B16001_001E,B16001_003E,B16001_006E,B16001_009E,B16001_012E,B16001_015E,B16001_018E,B16001_021E,B16001_024E,B16001_027E,B16001_030E,B16001_033E,B16001_036E,B16001_039E,B16001_042E,B16001_045E,B16001_048E,B16001_051E,B16001_054E,B16001_057E,B16001_060E,B16001_063E,B16001_066E,B16001_069E,B16001_072E,B16001_075E,B16001_078E,B16001_081E,B16001_084E,B16001_087E,B16001_090E,B16001_093E,B16001_096E,B16001_099E,B16001_102E,B16001_105E,B16001_108E,B16001_111E,B16001_114E,B16001_117E&for=public+use+microdata+area:04008&in=state:36&key=6122df17856235fccc7ce6a0b92b9dc8b13bddcd\n",
      "http://api.census.gov/data/2013/acs5?get=B16001_001E,B16001_003E,B16001_006E,B16001_009E,B16001_012E,B16001_015E,B16001_018E,B16001_021E,B16001_024E,B16001_027E,B16001_030E,B16001_033E,B16001_036E,B16001_039E,B16001_042E,B16001_045E,B16001_048E,B16001_051E,B16001_054E,B16001_057E,B16001_060E,B16001_063E,B16001_066E,B16001_069E,B16001_072E,B16001_075E,B16001_078E,B16001_081E,B16001_084E,B16001_087E,B16001_090E,B16001_093E,B16001_096E,B16001_099E,B16001_102E,B16001_105E,B16001_108E,B16001_111E,B16001_114E,B16001_117E&for=public+use+microdata+area:04014&in=state:36&key=6122df17856235fccc7ce6a0b92b9dc8b13bddcd\n"
     ]
    }
   ],
   "source": [
    "for line in inputFile:\n",
    "    print url % (','.join(sorted(api_var.keys())),line.split(',')[1])"
   ]
  },
  {
   "cell_type": "code",
   "execution_count": null,
   "metadata": {
    "collapsed": true
   },
   "outputs": [],
   "source": [
    "for line in inputReader:\n",
    "    r = requests.get(url % (','.join(sorted(api_var.keys())),line[1]))\n",
    "    max_number = max(map(lambda x: int(x),r.json()[1][:-2]))\n",
    "    max_index = r.json()[1].index(str(max_number))\n",
    "    "
   ]
  },
  {
   "cell_type": "code",
   "execution_count": 28,
   "metadata": {
    "collapsed": true
   },
   "outputs": [],
   "source": [
    "my_list = [5,7,9]"
   ]
  },
  {
   "cell_type": "code",
   "execution_count": 29,
   "metadata": {
    "collapsed": true
   },
   "outputs": [],
   "source": [
    "index={1}"
   ]
  },
  {
   "cell_type": "code",
   "execution_count": 33,
   "metadata": {
    "collapsed": false
   },
   "outputs": [
    {
     "data": {
      "text/plain": [
       "[5]"
      ]
     },
     "execution_count": 33,
     "metadata": {},
     "output_type": "execute_result"
    }
   ],
   "source": [
    "my_list[0:1]"
   ]
  },
  {
   "cell_type": "code",
   "execution_count": 35,
   "metadata": {
    "collapsed": false
   },
   "outputs": [
    {
     "data": {
      "text/plain": [
       "set"
      ]
     },
     "execution_count": 35,
     "metadata": {},
     "output_type": "execute_result"
    }
   ],
   "source": [
    "type(index)"
   ]
  },
  {
   "cell_type": "code",
   "execution_count": 6,
   "metadata": {
    "collapsed": false
   },
   "outputs": [
    {
     "data": {
      "text/plain": [
       "{'B16001_006E': 'French (incl. Patois, Cajun)',\n",
       " 'B16001_009E': 'French Creole',\n",
       " 'B16001_012E': 'Italian',\n",
       " 'B16001_015E': 'Portuguese or Portuguese Creole',\n",
       " 'B16001_018E': 'German',\n",
       " 'B16001_021E': 'Yiddish',\n",
       " 'B16001_024E': 'Other West Germanic languages',\n",
       " 'B16001_027E': 'Scandinavian languages',\n",
       " 'B16001_030E': 'Greek',\n",
       " 'B16001_033E': 'Russian',\n",
       " 'B16001_036E': 'Polish',\n",
       " 'B16001_039E': 'Serbo-Croatian',\n",
       " 'B16001_042E': 'Other Slavic languages',\n",
       " 'B16001_045E': 'Armenian',\n",
       " 'B16001_048E': 'Persian',\n",
       " 'B16001_051E': 'Gujarati',\n",
       " 'B16001_054E': 'Hindi',\n",
       " 'B16001_057E': 'Urdu',\n",
       " 'B16001_060E': 'Other Indic languages',\n",
       " 'B16001_063E': 'Other Indo-European languages',\n",
       " 'B16001_066E': 'Chinese',\n",
       " 'B16001_069E': 'Japanese',\n",
       " 'B16001_072E': 'Korean',\n",
       " 'B16001_075E': 'Mon-Khmer, Cambodian',\n",
       " 'B16001_078E': 'Hmong',\n",
       " 'B16001_081E': 'Thai',\n",
       " 'B16001_084E': 'Laotian',\n",
       " 'B16001_087E': 'Vietnamese',\n",
       " 'B16001_090E': 'Other Asian languages',\n",
       " 'B16001_093E': 'Tagalog',\n",
       " 'B16001_096E': 'Other Pacific Island languages',\n",
       " 'B16001_099E': 'Navajo',\n",
       " 'B16001_102E': 'Other Native North American languages',\n",
       " 'B16001_105E': 'Hungarian',\n",
       " 'B16001_108E': 'Arabic',\n",
       " 'B16001_111E': 'Hebrew',\n",
       " 'B16001_114E': 'African languages',\n",
       " 'B16001_117E': 'Other and unspecified languages'}"
      ]
     },
     "execution_count": 6,
     "metadata": {},
     "output_type": "execute_result"
    }
   ],
   "source": [
    "api_var "
   ]
  },
  {
   "cell_type": "code",
   "execution_count": 7,
   "metadata": {
    "collapsed": false
   },
   "outputs": [],
   "source": [
    "r = requests.get(url % (','.join(sorted(api_var.keys())),'04018'))"
   ]
  },
  {
   "cell_type": "code",
   "execution_count": 8,
   "metadata": {
    "collapsed": false
   },
   "outputs": [
    {
     "data": {
      "text/plain": [
       "[u'335',\n",
       " u'488',\n",
       " u'1719',\n",
       " u'33',\n",
       " u'103',\n",
       " u'797',\n",
       " u'105',\n",
       " u'0',\n",
       " u'53',\n",
       " u'35004',\n",
       " u'633',\n",
       " u'185',\n",
       " u'1148',\n",
       " u'0',\n",
       " u'15',\n",
       " u'0',\n",
       " u'423',\n",
       " u'1742',\n",
       " u'491',\n",
       " u'285',\n",
       " u'8982',\n",
       " u'39',\n",
       " u'114',\n",
       " u'162',\n",
       " u'0',\n",
       " u'0',\n",
       " u'0',\n",
       " u'340',\n",
       " u'1180',\n",
       " u'393',\n",
       " u'101',\n",
       " u'0',\n",
       " u'28',\n",
       " u'40',\n",
       " u'1054',\n",
       " u'472',\n",
       " u'206',\n",
       " u'190',\n",
       " u'36',\n",
       " u'04018']"
      ]
     },
     "execution_count": 8,
     "metadata": {},
     "output_type": "execute_result"
    }
   ],
   "source": [
    "r.json()[1]"
   ]
  },
  {
   "cell_type": "code",
   "execution_count": 15,
   "metadata": {
    "collapsed": false
   },
   "outputs": [
    {
     "data": {
      "text/plain": [
       "'Russian'"
      ]
     },
     "execution_count": 15,
     "metadata": {},
     "output_type": "execute_result"
    }
   ],
   "source": [
    "api_var[r.json()[0][r.json()[1].index(str(max(map(lambda x: int(x),r.json()[1][:-2]))))]]"
   ]
  },
  {
   "cell_type": "code",
   "execution_count": null,
   "metadata": {
    "collapsed": true
   },
   "outputs": [],
   "source": [
    "map(lambda x: int(x),r.json()[1][:-2])"
   ]
  },
  {
   "cell_type": "code",
   "execution_count": 16,
   "metadata": {
    "collapsed": true
   },
   "outputs": [],
   "source": [
    "max_number = max(map(lambda x: int(x),r.json()[1][:-2]))"
   ]
  },
  {
   "cell_type": "code",
   "execution_count": 20,
   "metadata": {
    "collapsed": false
   },
   "outputs": [],
   "source": [
    "max_index = r.json()[1].index(str(max_number))"
   ]
  },
  {
   "cell_type": "code",
   "execution_count": 23,
   "metadata": {
    "collapsed": false
   },
   "outputs": [
    {
     "data": {
      "text/plain": [
       "'Russian'"
      ]
     },
     "execution_count": 23,
     "metadata": {},
     "output_type": "execute_result"
    }
   ],
   "source": [
    "api_var[r.json()[0][max_index]]"
   ]
  },
  {
   "cell_type": "code",
   "execution_count": 57,
   "metadata": {
    "collapsed": false
   },
   "outputs": [
    {
     "data": {
      "text/plain": [
       "list"
      ]
     },
     "execution_count": 57,
     "metadata": {},
     "output_type": "execute_result"
    }
   ],
   "source": [
    "type(sorted(api_var.keys()))"
   ]
  },
  {
   "cell_type": "code",
   "execution_count": 53,
   "metadata": {
    "collapsed": false
   },
   "outputs": [
    {
     "name": "stdout",
     "output_type": "stream",
     "text": [
      "http://api.census.gov/data/2013/acs5?get=B16001_001E&for=public+use+microdata+area:04018&in=state:36&key=6122df17856235fccc7ce6a0b92b9dc8b13bddcd\n"
     ]
    }
   ],
   "source": [
    "print url % ('B16001_001E','04018')"
   ]
  },
  {
   "cell_type": "code",
   "execution_count": 51,
   "metadata": {
    "collapsed": false
   },
   "outputs": [
    {
     "data": {
      "text/plain": [
       "'http://api.census.gov/data/2013/acs5?get=%s&for=public+use+microdata+area:%s&in=state:36&key=6122df17856235fccc7ce6a0b92b9dc8b13bddcd'"
      ]
     },
     "execution_count": 51,
     "metadata": {},
     "output_type": "execute_result"
    }
   ],
   "source": [
    "url"
   ]
  },
  {
   "cell_type": "code",
   "execution_count": 52,
   "metadata": {
    "collapsed": false
   },
   "outputs": [
    {
     "data": {
      "text/plain": [
       "'hi, there Rachel my name is Richard'"
      ]
     },
     "execution_count": 52,
     "metadata": {},
     "output_type": "execute_result"
    }
   ],
   "source": [
    "\"hi, there %s my name is %s\" % ('Rachel','Richard')"
   ]
  },
  {
   "cell_type": "code",
   "execution_count": null,
   "metadata": {
    "collapsed": true
   },
   "outputs": [],
   "source": []
  },
  {
   "cell_type": "code",
   "execution_count": 64,
   "metadata": {
    "collapsed": false
   },
   "outputs": [],
   "source": [
    "r = requests.get(url % (','.join(sorted(api_var.keys())),line[1]))"
   ]
  },
  {
   "cell_type": "code",
   "execution_count": 70,
   "metadata": {
    "collapsed": false
   },
   "outputs": [
    {
     "data": {
      "text/plain": [
       "unicode"
      ]
     },
     "execution_count": 70,
     "metadata": {},
     "output_type": "execute_result"
    }
   ],
   "source": [
    "r.json()[1][0]"
   ]
  },
  {
   "cell_type": "code",
   "execution_count": 71,
   "metadata": {
    "collapsed": true
   },
   "outputs": [],
   "source": [
    "a = '1'"
   ]
  },
  {
   "cell_type": "code",
   "execution_count": 72,
   "metadata": {
    "collapsed": true
   },
   "outputs": [],
   "source": [
    "b = '2'"
   ]
  },
  {
   "cell_type": "code",
   "execution_count": 73,
   "metadata": {
    "collapsed": false
   },
   "outputs": [
    {
     "data": {
      "text/plain": [
       "'12'"
      ]
     },
     "execution_count": 73,
     "metadata": {},
     "output_type": "execute_result"
    }
   ],
   "source": [
    "a + b"
   ]
  },
  {
   "cell_type": "code",
   "execution_count": 74,
   "metadata": {
    "collapsed": true
   },
   "outputs": [],
   "source": [
    "a = 1\n",
    "b = 2"
   ]
  },
  {
   "cell_type": "code",
   "execution_count": 75,
   "metadata": {
    "collapsed": false
   },
   "outputs": [
    {
     "data": {
      "text/plain": [
       "3"
      ]
     },
     "execution_count": 75,
     "metadata": {},
     "output_type": "execute_result"
    }
   ],
   "source": [
    "a + b"
   ]
  },
  {
   "cell_type": "code",
   "execution_count": null,
   "metadata": {
    "collapsed": true
   },
   "outputs": [],
   "source": []
  },
  {
   "cell_type": "code",
   "execution_count": null,
   "metadata": {
    "collapsed": true
   },
   "outputs": [],
   "source": []
  },
  {
   "cell_type": "code",
   "execution_count": null,
   "metadata": {
    "collapsed": true
   },
   "outputs": [],
   "source": []
  },
  {
   "cell_type": "code",
   "execution_count": null,
   "metadata": {
    "collapsed": true
   },
   "outputs": [],
   "source": []
  },
  {
   "cell_type": "code",
   "execution_count": 67,
   "metadata": {
    "collapsed": false
   },
   "outputs": [
    {
     "data": {
      "text/plain": [
       "{'B16001_001E': 'Total',\n",
       " 'B16001_003E': 'Spanish or Spanish Creole',\n",
       " 'B16001_006E': 'French (incl. Patois, Cajun)',\n",
       " 'B16001_009E': 'French Creole',\n",
       " 'B16001_012E': 'Italian',\n",
       " 'B16001_015E': 'Portuguese or Portuguese Creole',\n",
       " 'B16001_018E': 'German',\n",
       " 'B16001_021E': 'Yiddish',\n",
       " 'B16001_024E': 'Other West Germanic languages',\n",
       " 'B16001_027E': 'Scandinavian languages',\n",
       " 'B16001_030E': 'Greek',\n",
       " 'B16001_033E': 'Russian',\n",
       " 'B16001_036E': 'Polish',\n",
       " 'B16001_039E': 'Serbo-Croatian',\n",
       " 'B16001_042E': 'Other Slavic languages',\n",
       " 'B16001_045E': 'Armenian',\n",
       " 'B16001_048E': 'Persian',\n",
       " 'B16001_051E': 'Gujarati',\n",
       " 'B16001_054E': 'Hindi',\n",
       " 'B16001_057E': 'Urdu',\n",
       " 'B16001_060E': 'Other Indic languages',\n",
       " 'B16001_063E': 'Other Indo-European languages',\n",
       " 'B16001_066E': 'Chinese',\n",
       " 'B16001_069E': 'Japanese',\n",
       " 'B16001_072E': 'Korean',\n",
       " 'B16001_075E': 'Mon-Khmer, Cambodian',\n",
       " 'B16001_078E': 'Hmong',\n",
       " 'B16001_081E': 'Thai',\n",
       " 'B16001_084E': 'Laotian',\n",
       " 'B16001_087E': 'Vietnamese',\n",
       " 'B16001_090E': 'Other Asian languages',\n",
       " 'B16001_093E': 'Tagalog',\n",
       " 'B16001_096E': 'Other Pacific Island languages',\n",
       " 'B16001_099E': 'Navajo',\n",
       " 'B16001_102E': 'Other Native North American languages',\n",
       " 'B16001_105E': 'Hungarian',\n",
       " 'B16001_108E': 'Arabic',\n",
       " 'B16001_111E': 'Hebrew',\n",
       " 'B16001_114E': 'African languages',\n",
       " 'B16001_117E': 'Other and unspecified languages'}"
      ]
     },
     "execution_count": 67,
     "metadata": {},
     "output_type": "execute_result"
    }
   ],
   "source": [
    "api_var"
   ]
  },
  {
   "cell_type": "code",
   "execution_count": null,
   "metadata": {
    "collapsed": true
   },
   "outputs": [],
   "source": []
  }
 ],
 "metadata": {
  "kernelspec": {
   "display_name": "Python 2",
   "language": "python",
   "name": "python2"
  },
  "language_info": {
   "codemirror_mode": {
    "name": "ipython",
    "version": 2
   },
   "file_extension": ".py",
   "mimetype": "text/x-python",
   "name": "python",
   "nbconvert_exporter": "python",
   "pygments_lexer": "ipython2",
   "version": "2.7.10"
  }
 },
 "nbformat": 4,
 "nbformat_minor": 0
}
